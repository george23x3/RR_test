{
 "cells": [
  {
   "cell_type": "code",
   "execution_count": 83,
   "metadata": {},
   "outputs": [],
   "source": [
    "from PIL import Image\n",
    "import numpy as np\n",
    "from argparse import ArgumentParser\n",
    "from os import listdir\n",
    "from os.path import isfile, join"
   ]
  },
  {
   "cell_type": "code",
   "execution_count": null,
   "metadata": {},
   "outputs": [],
   "source": [
    "parser = ArgumentParser()\n",
    "parser.add_argument(\"--path\", dest=\"path\",\n",
    "                    help=\"folder with images\",required=True)"
   ]
  },
  {
   "cell_type": "code",
   "execution_count": 84,
   "metadata": {},
   "outputs": [],
   "source": [
    "RMSE = lambda w1 ,w2: np.sqrt(((w1 - w2)**2).mean())\n",
    "size = 100\n",
    "corner_1 = lambda pic: np.array(pic)[:size, :size]\n",
    "corner_2 = lambda pic: np.array(pic)[-size:, :size]\n",
    "corner_3 = lambda pic: np.array(pic)[:size, -size:]\n",
    "corner_4 = lambda pic: np.array(pic)[-size:, -size:]"
   ]
  },
  {
   "cell_type": "code",
   "execution_count": 96,
   "metadata": {},
   "outputs": [
    {
     "name": "stdout",
     "output_type": "stream",
     "text": [
      "12.jpg\n"
     ]
    }
   ],
   "source": [
    "v1 =  Image.open('12.jpg')\n",
    "v11 = Image.open('11_modification.jpg')\n",
    "v = v1.resize((1024, 1024))\n",
    "v2 = v11.resize((1024, 1024))\n",
    "our_RMSE = RMSE(np.array(v), np.array(v2))\n",
    "#print(our_RMSE)\n",
    "if our_RMSE == 0:\n",
    "    print('duplicate')\n",
    "elif our_RMSE < 9.5:\n",
    "    RMSE_arr = [RMSE(corner_1(v), corner_1(v2)),\n",
    "            RMSE(corner_2(v), corner_2(v2)),\n",
    "            RMSE(corner_3(v), corner_3(v2)),\n",
    "            RMSE(corner_4(v), corner_4(v2))]\n",
    "    print(RMSE_arr)\n",
    "    if max(RMSE_arr)-min(RMSE_arr)<2 or (v1.size != v11.size):\n",
    "        print(\"modification\")\n",
    "    else:\n",
    "        print(\"similar\")\n",
    "else: pass"
   ]
  }
 ],
 "metadata": {
  "kernelspec": {
   "display_name": "Python 3",
   "language": "python",
   "name": "python3"
  },
  "language_info": {
   "codemirror_mode": {
    "name": "ipython",
    "version": 3
   },
   "file_extension": ".py",
   "mimetype": "text/x-python",
   "name": "python",
   "nbconvert_exporter": "python",
   "pygments_lexer": "ipython3",
   "version": "3.7.0"
  }
 },
 "nbformat": 4,
 "nbformat_minor": 2
}
